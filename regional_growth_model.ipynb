{
 "cells": [
  {
   "cell_type": "markdown",
   "metadata": {},
   "source": [
    "# Region Growth Prediction Model"
   ]
  },
  {
   "cell_type": "code",
   "execution_count": 192,
   "metadata": {},
   "outputs": [],
   "source": [
    "import pandas as pd\n",
    "from statsmodels.tsa.arima.model import ARIMA"
   ]
  },
  {
   "cell_type": "code",
   "execution_count": 181,
   "metadata": {},
   "outputs": [],
   "source": [
    "US_population_data = pd.read_csv('United_States_Census_Data.csv')\n",
    "US_fertility_data = pd.read_csv('United_States_Fertility_Rates.csv')"
   ]
  },
  {
   "cell_type": "code",
   "execution_count": 172,
   "metadata": {},
   "outputs": [],
   "source": [
    "northeast_indices = [6, 18, 20, 28, 38, 44, 39, 31, 37]\n",
    "midwest_indices = [13, 12, 21, 34, 48, 14, 26, 15, 33, 22, 40, 24]\n",
    "south_indices = [7, 8, 9, 19, 32, 39, 45, 47, 0, 16, 23, 41, 3, 17, 35, 42]\n",
    "west_indices = [2, 5, 11, 30, 25, 43, 27, 49, 4, 36, 46]"
   ]
  },
  {
   "cell_type": "code",
   "execution_count": 173,
   "metadata": {},
   "outputs": [],
   "source": [
    "def region_condenser_pop(idx_lst):\n",
    "    regional_data = [0 for i in range(12)]\n",
    "\n",
    "    for i in idx_lst:\n",
    "        data = US_population_data.iloc[i].iloc[2:]  \n",
    "    \n",
    "        data_as_integers = data.str.replace(',', '').astype(int)\n",
    "\n",
    "        storage = data_as_integers.tolist()\n",
    "        storage.reverse()\n",
    "\n",
    "        regional_data = [sum(i) for i in zip(regional_data, storage)]\n",
    "    \n",
    "    return regional_data\n",
    "\n",
    "\n",
    "def region_condenser_fertility(idx_lst):\n",
    "    fertility_data = [0 for i in range(8)]\n",
    "\n",
    "    for i in idx_lst:\n",
    "        data = US_fertility_data.iloc[i].iloc[2:] \n",
    "\n",
    "        storage = data.tolist()\n",
    "\n",
    "        fertility_data = [sum(i) for i in zip(fertility_data, storage)]\n",
    "\n",
    "    \n",
    "    return fertility_data"
   ]
  },
  {
   "cell_type": "markdown",
   "metadata": {},
   "source": [
    "# Full Model"
   ]
  },
  {
   "cell_type": "code",
   "execution_count": 174,
   "metadata": {},
   "outputs": [],
   "source": [
    "pop_years = ['1910 Total', '1920 Total', '1930 Total', '1940 Total', \n",
    "             '1950 Total', '1960 Total', '1970 Total', '1980 Total', \n",
    "             '1990 Total', '2000 Total', '2010 Total', '2020 Total']\n",
    "\n",
    "fertility_years = ['2014', '2015', '2016', '2017', '2018', '2019', '2020', '2021']\n",
    "\n",
    "\n",
    "northeast_indices = [6, 18, 20, 28, 38, 44, 39, 31, 37]\n",
    "midwest_indices = [13, 12, 21, 34, 48, 14, 26, 15, 33, 22, 40, 24]\n",
    "south_indices = [7, 8, 9, 19, 32, 39, 45, 47, 0, 16, 23, 41, 3, 17, 35, 42]\n",
    "west_indices = [2, 5, 11, 30, 25, 43, 27, 49, 4, 36, 46]"
   ]
  },
  {
   "cell_type": "code",
   "execution_count": 182,
   "metadata": {},
   "outputs": [],
   "source": [
    "def regional_growth_percentage(region):\n",
    "    region_indices = {\n",
    "        'Northeast': northeast_indices,\n",
    "        'Midwest': midwest_indices,\n",
    "        'South': south_indices,\n",
    "        'West': west_indices,\n",
    "        'Alaska': [1],\n",
    "        'Hawaii': [10]\n",
    "    }\n",
    "    \n",
    "    chosen_indices = region_indices.get(region)\n",
    "\n",
    "    # POPULATION BLOCK START    \n",
    "    regional_population_data = [0 for i in range(12)]\n",
    "\n",
    "    for i in chosen_indices:\n",
    "        population_data = US_population_data.iloc[i].iloc[2:]  \n",
    "    \n",
    "        data_as_integers = population_data.str.replace(',', '').astype(int)\n",
    "\n",
    "        storage = data_as_integers.tolist()\n",
    "        storage.reverse()\n",
    "\n",
    "        regional_population_data = [sum(i) for i in zip(regional_population_data, storage)]\n",
    "\n",
    "        population_df = pd.DataFrame([region_condenser_pop(chosen_indices)], columns=pop_years)\n",
    "\n",
    "    historical_population_data = population_df.values.flatten().tolist()\n",
    "\n",
    "    population_model = ARIMA(historical_population_data, order=(0, 0, 0))\n",
    "    fitted_population_model = population_model.fit()\n",
    "    population_forecast = fitted_population_model.forecast(steps=1)\n",
    "    rounded_population_forecast = round(population_forecast[0])\n",
    "    # POPULATION BLOCK END\n",
    "\n",
    "    # FERTILITY BLOCK START\n",
    "    regional_data_fertility = [0 for i in range(8)]\n",
    "\n",
    "    for i in chosen_indices:\n",
    "        data_fertility = US_fertility_data.iloc[i].iloc[2:]  \n",
    "    \n",
    "        fertility_storage = data_fertility.tolist()\n",
    "\n",
    "        regional_data_fertility = [sum(i) for i in zip(regional_data_fertility, fertility_storage)]\n",
    "\n",
    "        fertility_df = pd.DataFrame([region_condenser_fertility(chosen_indices)], columns=fertility_years)\n",
    "\n",
    "    previous_data_fert = fertility_df.values.flatten().tolist()\n",
    "\n",
    "    model_fertility = ARIMA(previous_data_fert, order=(0, 0, 0))\n",
    "    fitted_model_fertility = model_fertility.fit()\n",
    "\n",
    "\n",
    "    forecast_fertility = fitted_model_fertility.forecast(steps=1)\n",
    "    rounded_forecast_fertility = round(forecast_fertility[0])\n",
    "    # FERTILITY BLOCK END\n",
    "\n",
    "    #Calculates Growth Percentage of a Region Within the Next Ten years\n",
    "    growth_percentage = (rounded_forecast_fertility/rounded_population_forecast) * 100\n",
    "\n",
    "    return round(growth_percentage, 4)\n",
    "    "
   ]
  }
 ],
 "metadata": {
  "kernelspec": {
   "display_name": "stat_4185_env",
   "language": "python",
   "name": "python3"
  },
  "language_info": {
   "codemirror_mode": {
    "name": "ipython",
    "version": 3
   },
   "file_extension": ".py",
   "mimetype": "text/x-python",
   "name": "python",
   "nbconvert_exporter": "python",
   "pygments_lexer": "ipython3",
   "version": "3.11.5"
  }
 },
 "nbformat": 4,
 "nbformat_minor": 2
}
