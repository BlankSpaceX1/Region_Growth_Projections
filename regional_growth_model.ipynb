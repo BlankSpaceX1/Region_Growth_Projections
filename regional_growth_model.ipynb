{
 "cells": [
  {
   "cell_type": "markdown",
   "metadata": {},
   "source": [
    "# Region Growth Model"
   ]
  },
  {
   "cell_type": "code",
   "execution_count": 4,
   "metadata": {},
   "outputs": [],
   "source": [
    "import pandas as pd\n",
    "import random\n",
    "from sklearn import preprocessing\n",
    "import numpy as np\n",
    "from sklearn.preprocessing import LabelEncoder\n",
    "from sklearn.model_selection import train_test_split, GridSearchCV\n",
    "import sklearn\n",
    "from sklearn.compose import ColumnTransformer\n",
    "from sklearn.preprocessing import StandardScaler\n",
    "import category_encoders as ce\n",
    "from sklearn.metrics import mean_squared_error\n",
    "from sklearn.metrics import accuracy_score, precision_score, recall_score, f1_score, confusion_matrix\n",
    "from sklearn.ensemble import AdaBoostClassifier\n",
    "from statsmodels.tsa.arima.model import ARIMA"
   ]
  },
  {
   "cell_type": "code",
   "execution_count": 3,
   "metadata": {},
   "outputs": [],
   "source": [
    "US_population_data = pd.read_csv('United_States_Census_Data.csv')\n",
    "US_fertility_data = pd.read_csv('United_States_Fertility_Rates.csv')\n",
    "US_median_income_data = pd.read_csv('United_States_Median_Income_by_State.csv')\n",
    "US_unemployment_data = pd.read_csv('United_States_Unemployment_Data.csv')"
   ]
  },
  {
   "cell_type": "code",
   "execution_count": 6,
   "metadata": {},
   "outputs": [],
   "source": [
    "northeast_indices = [6, 18, 20, 28, 38, 44, 39, 31, 37]\n",
    "midwest_indices = [13, 12, 21, 34, 48, 14, 26, 15, 33, 22, 40, 24]\n",
    "south_indices = [7, 8, 9, 19, 32, 39, 45, 47, 0, 16, 23, 41, 3, 17, 35, 42]\n",
    "west_indices = [2, 5, 11, 30, 25, 43, 27, 49, 4, 36, 46]"
   ]
  },
  {
   "cell_type": "code",
   "execution_count": 99,
   "metadata": {},
   "outputs": [],
   "source": [
    "pop_years = ['1910 Northeast Total', '1920 Northeast Total', '1930 Northeast Total', '1940 Northeast Total', \n",
    "             '1950 Northeast Total', '1960 Northeast Total', '1970 Northeast Total', '1980 Northeast Total', \n",
    "             '1990 Northeast Total', '2000 Northeast Total', '2010 Northeast Total', '2020 Northeast Total']\n",
    "\n",
    "def region_condenser_pop(idx_lst):\n",
    "    regional_data = [0 for i in range(12)]\n",
    "\n",
    "    for i in idx_lst:\n",
    "        data = US_population_data.iloc[i].iloc[2:]  \n",
    "    \n",
    "        data_as_integers = data.str.replace(',', '').astype(int)\n",
    "\n",
    "        storage = data_as_integers.tolist()\n",
    "        storage.reverse()\n",
    "\n",
    "        regional_data = [sum(i) for i in zip(regional_data, storage)]\n",
    "    \n",
    "    return regional_data"
   ]
  },
  {
   "cell_type": "code",
   "execution_count": 108,
   "metadata": {},
   "outputs": [],
   "source": [
    "northeast_train_origin_df = pd.DataFrame([region_condenser_pop(northeast_indices)], columns=pop_years)"
   ]
  },
  {
   "cell_type": "code",
   "execution_count": 109,
   "metadata": {},
   "outputs": [
    {
     "data": {
      "text/html": [
       "<div>\n",
       "<style scoped>\n",
       "    .dataframe tbody tr th:only-of-type {\n",
       "        vertical-align: middle;\n",
       "    }\n",
       "\n",
       "    .dataframe tbody tr th {\n",
       "        vertical-align: top;\n",
       "    }\n",
       "\n",
       "    .dataframe thead th {\n",
       "        text-align: right;\n",
       "    }\n",
       "</style>\n",
       "<table border=\"1\" class=\"dataframe\">\n",
       "  <thead>\n",
       "    <tr style=\"text-align: right;\">\n",
       "      <th></th>\n",
       "      <th>1910 Northeast Total</th>\n",
       "      <th>1920 Northeast Total</th>\n",
       "      <th>1930 Northeast Total</th>\n",
       "      <th>1940 Northeast Total</th>\n",
       "      <th>1950 Northeast Total</th>\n",
       "      <th>1960 Northeast Total</th>\n",
       "      <th>1970 Northeast Total</th>\n",
       "      <th>1980 Northeast Total</th>\n",
       "      <th>1990 Northeast Total</th>\n",
       "      <th>2000 Northeast Total</th>\n",
       "      <th>2010 Northeast Total</th>\n",
       "      <th>2020 Northeast Total</th>\n",
       "    </tr>\n",
       "  </thead>\n",
       "  <tbody>\n",
       "    <tr>\n",
       "      <th>0</th>\n",
       "      <td>24846806</td>\n",
       "      <td>28189877</td>\n",
       "      <td>32124522</td>\n",
       "      <td>33716416</td>\n",
       "      <td>36759684</td>\n",
       "      <td>40993631</td>\n",
       "      <td>44463055</td>\n",
       "      <td>44892280</td>\n",
       "      <td>46565744</td>\n",
       "      <td>49192040</td>\n",
       "      <td>51150710</td>\n",
       "      <td>53438579</td>\n",
       "    </tr>\n",
       "  </tbody>\n",
       "</table>\n",
       "</div>"
      ],
      "text/plain": [
       "   1910 Northeast Total  1920 Northeast Total  1930 Northeast Total  \\\n",
       "0              24846806              28189877              32124522   \n",
       "\n",
       "   1940 Northeast Total  1950 Northeast Total  1960 Northeast Total  \\\n",
       "0              33716416              36759684              40993631   \n",
       "\n",
       "   1970 Northeast Total  1980 Northeast Total  1990 Northeast Total  \\\n",
       "0              44463055              44892280              46565744   \n",
       "\n",
       "   2000 Northeast Total  2010 Northeast Total  2020 Northeast Total  \n",
       "0              49192040              51150710              53438579  "
      ]
     },
     "execution_count": 109,
     "metadata": {},
     "output_type": "execute_result"
    }
   ],
   "source": [
    "northeast_train_origin_df"
   ]
  },
  {
   "cell_type": "markdown",
   "metadata": {},
   "source": [
    "**Note:** We will be conducting the following train and test split. \n",
    "\n",
    "**Train:** 1910 Northeast Total - 1980 Northeast Total\n",
    "\n",
    "**Test:** 1990 Northeast Total - 2020 Northeast Total"
   ]
  },
  {
   "cell_type": "code",
   "execution_count": 110,
   "metadata": {},
   "outputs": [],
   "source": [
    "training_set = northeast_train_origin_df[['1910 Northeast Total', '1920 Northeast Total', '1930 Northeast Total', \n",
    "                                          '1940 Northeast Total', '1950 Northeast Total', '1960 Northeast Total', \n",
    "                                          '1970 Northeast Total', '1980 Northeast Total',]]\n",
    "test_set = northeast_train_origin_df[['1990 Northeast Total', '2000 Northeast Total', '2010 Northeast Total', '2020 Northeast Total']]"
   ]
  },
  {
   "cell_type": "code",
   "execution_count": 111,
   "metadata": {},
   "outputs": [
    {
     "name": "stdout",
     "output_type": "stream",
     "text": [
      "[24846806, 28189877, 32124522, 33716416, 36759684, 40993631, 44463055, 44892280]\n",
      "[46565744, 49192040, 51150710, 53438579]\n"
     ]
    }
   ],
   "source": [
    "data = training_set.iloc[0].values.tolist()\n",
    "data_2 = test_set.iloc[0].values.tolist()"
   ]
  },
  {
   "cell_type": "code",
   "execution_count": 118,
   "metadata": {},
   "outputs": [
    {
     "data": {
      "text/plain": [
       "array([[24846806, 28189877, 32124522, 33716416, 36759684, 40993631,\n",
       "        44463055, 44892280]])"
      ]
     },
     "execution_count": 118,
     "metadata": {},
     "output_type": "execute_result"
    }
   ],
   "source": [
    "training_set.values"
   ]
  },
  {
   "cell_type": "code",
   "execution_count": 119,
   "metadata": {},
   "outputs": [
    {
     "name": "stdout",
     "output_type": "stream",
     "text": [
      "MAPE for year 1990: 46.64%\n",
      "MAPE for year 2000: 42.69%\n",
      "MAPE for year 2010: 37.20%\n",
      "MAPE for year 2020: 36.91%\n",
      "Overall MAPE: 40.86%\n"
     ]
    }
   ],
   "source": [
    "# Meant to test how this particular model should be tuned when there is a known answer\n",
    "training_values = training_set.values.flatten().tolist()\n",
    "\n",
    "test_model = ARIMA(training_values, order=(1, 0, 0))\n",
    "fitted_model = test_model.fit()\n",
    "\n",
    "\n",
    "forecast = fitted_model.forecast(steps=len(data_2))\n",
    "\n",
    "def calculate_mape(data_2, data):\n",
    "    return (abs((data_2 - data) / data_2)) * 100\n",
    "\n",
    "mape_scores = [calculate_mape(actual, predicted) for actual, predicted in zip(data_2, data)]\n",
    "\n",
    "overall_mape = sum(mape_scores) / len(mape_scores)\n",
    "\n",
    "\n",
    "for year, mape in zip([1990, 2000, 2010, 2020], mape_scores):\n",
    "    print(f\"MAPE for year {year}: {mape:.2f}%\")\n",
    "\n",
    "print(f\"Overall MAPE: {overall_mape:.2f}%\")"
   ]
  },
  {
   "cell_type": "code",
   "execution_count": null,
   "metadata": {},
   "outputs": [],
   "source": [
    "training_values = training_set.values.flatten().tolist()\n",
    "\n",
    "deployed_model = ARIMA(training_values, order=(1, 0, 0))\n",
    "fitted_model = test_model.fit()\n",
    "\n",
    "\n",
    "forecast = fitted_model.forecast(steps=len(data_2))\n",
    "\n",
    "def calculate_mape(data_2, data):\n",
    "    return (abs((data_2 - data) / data_2)) * 100\n",
    "\n",
    "mape_scores = [calculate_mape(actual, predicted) for actual, predicted in zip(data_2, data)]\n",
    "\n",
    "overall_mape = sum(mape_scores) / len(mape_scores)\n",
    "\n",
    "\n",
    "for year, mape in zip([1990, 2000, 2010, 2020], mape_scores):\n",
    "    print(f\"MAPE for year {year}: {mape:.2f}%\")\n",
    "\n",
    "print(f\"Overall MAPE: {overall_mape:.2f}%\")"
   ]
  }
 ],
 "metadata": {
  "kernelspec": {
   "display_name": "stat_4185_env",
   "language": "python",
   "name": "python3"
  },
  "language_info": {
   "codemirror_mode": {
    "name": "ipython",
    "version": 3
   },
   "file_extension": ".py",
   "mimetype": "text/x-python",
   "name": "python",
   "nbconvert_exporter": "python",
   "pygments_lexer": "ipython3",
   "version": "3.11.5"
  }
 },
 "nbformat": 4,
 "nbformat_minor": 2
}
