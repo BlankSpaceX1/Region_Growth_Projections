{
 "cells": [
  {
   "cell_type": "code",
   "execution_count": 1,
   "metadata": {},
   "outputs": [],
   "source": [
    "# imports needed packages\n",
    "from bs4 import BeautifulSoup as bs \n",
    "import numpy as np\n",
    "import pandas as pd\n",
    "import requests\n",
    "import re\n",
    "import xlrd \n",
    "import openpyxl"
   ]
  },
  {
   "cell_type": "markdown",
   "metadata": {},
   "source": [
    "## Population Census DataFrame"
   ]
  },
  {
   "cell_type": "code",
   "execution_count": 42,
   "metadata": {},
   "outputs": [
    {
     "name": "stdout",
     "output_type": "stream",
     "text": [
      "200\n"
     ]
    }
   ],
   "source": [
    "#checks site status\n",
    "url = 'https://www.census.gov/data/tables/time-series/dec/popchange-data-text.html'\n",
    "\n",
    "req = requests.get(url)\n",
    "\n",
    "print(req.status_code)\n"
   ]
  },
  {
   "cell_type": "code",
   "execution_count": 43,
   "metadata": {},
   "outputs": [],
   "source": [
    "soup = bs(req.content, 'html.parser')"
   ]
  },
  {
   "cell_type": "code",
   "execution_count": 63,
   "metadata": {},
   "outputs": [],
   "source": [
    "def convert(element):\n",
    "    return element.string if element.string else None"
   ]
  },
  {
   "cell_type": "code",
   "execution_count": 64,
   "metadata": {},
   "outputs": [],
   "source": [
    "state_names = list(map(convert, soup.select('th')))"
   ]
  },
  {
   "cell_type": "code",
   "execution_count": 106,
   "metadata": {},
   "outputs": [],
   "source": [
    "#state_names"
   ]
  },
  {
   "cell_type": "code",
   "execution_count": 66,
   "metadata": {},
   "outputs": [],
   "source": [
    "def remove_until_element(lst, element):\n",
    "    try:\n",
    "        index = lst.index(element)\n",
    "        return lst[index:]\n",
    "    except ValueError:\n",
    "        return lst\n",
    "    \n",
    "state_names = remove_until_element(state_names, 'United States')"
   ]
  },
  {
   "cell_type": "code",
   "execution_count": 67,
   "metadata": {},
   "outputs": [],
   "source": [
    "residents = list(map(convert, soup.select('td+ td , #POP_US+ td')))"
   ]
  },
  {
   "cell_type": "code",
   "execution_count": 68,
   "metadata": {},
   "outputs": [],
   "source": [
    "# Creates two seperate arrays for the resident population and percent change\n",
    "resident_population = []\n",
    "percent_change = []\n",
    "\n",
    "for element in residents:\n",
    "    \n",
    "    if '%' in element:\n",
    "        percent_change.append(element)\n",
    "    \n",
    "    else:\n",
    "        resident_population.append(element)\n"
   ]
  },
  {
   "cell_type": "code",
   "execution_count": 69,
   "metadata": {},
   "outputs": [],
   "source": [
    "num_cols = 12\n",
    "num_rows = 57\n",
    "reshaped_list = np.array(resident_population).reshape(num_rows, num_cols)\n",
    "\n",
    "census_resident_pop = pd.DataFrame(reshaped_list, columns=[f'{i}' for i in range(1, num_cols + 1)])"
   ]
  },
  {
   "cell_type": "code",
   "execution_count": 70,
   "metadata": {},
   "outputs": [],
   "source": [
    "start_year = 2020\n",
    "\n",
    "for i in range(1, 13):\n",
    "\n",
    "    original_column_name = str(i)\n",
    "\n",
    "    census_resident_pop.rename(columns={original_column_name: f'{start_year} Resident Population'}, inplace=True)\n",
    "\n",
    "    start_year -=10\n"
   ]
  },
  {
   "cell_type": "code",
   "execution_count": 71,
   "metadata": {},
   "outputs": [],
   "source": [
    "num_cols = 12\n",
    "num_rows = 57\n",
    "reshaped_list = np.array(percent_change).reshape(num_rows, num_cols)\n",
    "\n",
    "census_percent_change = pd.DataFrame(reshaped_list, columns=[f'{i}' for i in range(1, num_cols + 1)])\n",
    "\n",
    "start_year = 2020\n",
    "\n",
    "for i in range(1, 13):\n",
    "\n",
    "    original_column_name = str(i)\n",
    "\n",
    "    census_percent_change.rename(columns={original_column_name: f'{start_year} Percentage Change'}, inplace=True)\n",
    "\n",
    "    start_year -=10\n",
    "\n"
   ]
  },
  {
   "cell_type": "code",
   "execution_count": 72,
   "metadata": {},
   "outputs": [],
   "source": [
    "census_df = pd.DataFrame(data=state_names, columns=['State Names'])"
   ]
  },
  {
   "cell_type": "code",
   "execution_count": 105,
   "metadata": {},
   "outputs": [],
   "source": [
    "#census_df"
   ]
  },
  {
   "cell_type": "code",
   "execution_count": 74,
   "metadata": {},
   "outputs": [],
   "source": [
    "census_df = census_df.join(census_resident_pop)"
   ]
  },
  {
   "cell_type": "markdown",
   "metadata": {},
   "source": [
    "**Note:** Due to reasons of data encoding and model construction, the percentage will not be included in the dataframe. In addition to this, certain rows of the dataframe such as the District of Columbia and Puerto Rico will not be included in the dataframe. Puerto Rico for its lack of statehood, and DC due to it already being encompased in a state."
   ]
  },
  {
   "cell_type": "code",
   "execution_count": 76,
   "metadata": {},
   "outputs": [],
   "source": [
    "census_df.drop([0, 1, 2, 3, 4, 13, 56], inplace=True)"
   ]
  },
  {
   "cell_type": "code",
   "execution_count": 77,
   "metadata": {},
   "outputs": [],
   "source": [
    "census_df = census_df.reset_index(drop=True)"
   ]
  },
  {
   "cell_type": "code",
   "execution_count": 104,
   "metadata": {},
   "outputs": [],
   "source": [
    "#census_df.head()"
   ]
  },
  {
   "cell_type": "code",
   "execution_count": 79,
   "metadata": {},
   "outputs": [],
   "source": [
    "census_df.to_csv('United_States_Census_Data.csv')"
   ]
  },
  {
   "cell_type": "markdown",
   "metadata": {},
   "source": [
    "## Fertility DataFrame"
   ]
  },
  {
   "cell_type": "code",
   "execution_count": 146,
   "metadata": {},
   "outputs": [],
   "source": [
    "fertility_df = pd.read_csv('/Users/emmanuely/Downloads/data-table.csv')"
   ]
  },
  {
   "cell_type": "code",
   "execution_count": 147,
   "metadata": {},
   "outputs": [],
   "source": [
    "fertility_df.drop(columns=['URL', 'FERTILITY RATE'], axis=1, inplace=True)"
   ]
  },
  {
   "cell_type": "code",
   "execution_count": 148,
   "metadata": {},
   "outputs": [
    {
     "data": {
      "text/html": [
       "<div>\n",
       "<style scoped>\n",
       "    .dataframe tbody tr th:only-of-type {\n",
       "        vertical-align: middle;\n",
       "    }\n",
       "\n",
       "    .dataframe tbody tr th {\n",
       "        vertical-align: top;\n",
       "    }\n",
       "\n",
       "    .dataframe thead th {\n",
       "        text-align: right;\n",
       "    }\n",
       "</style>\n",
       "<table border=\"1\" class=\"dataframe\">\n",
       "  <thead>\n",
       "    <tr style=\"text-align: right;\">\n",
       "      <th></th>\n",
       "      <th>YEAR</th>\n",
       "      <th>STATE</th>\n",
       "      <th>BIRTHS</th>\n",
       "    </tr>\n",
       "  </thead>\n",
       "  <tbody>\n",
       "    <tr>\n",
       "      <th>0</th>\n",
       "      <td>2021</td>\n",
       "      <td>AL</td>\n",
       "      <td>58054</td>\n",
       "    </tr>\n",
       "    <tr>\n",
       "      <th>1</th>\n",
       "      <td>2021</td>\n",
       "      <td>AK</td>\n",
       "      <td>9367</td>\n",
       "    </tr>\n",
       "    <tr>\n",
       "      <th>2</th>\n",
       "      <td>2021</td>\n",
       "      <td>AZ</td>\n",
       "      <td>77916</td>\n",
       "    </tr>\n",
       "    <tr>\n",
       "      <th>3</th>\n",
       "      <td>2021</td>\n",
       "      <td>AR</td>\n",
       "      <td>35965</td>\n",
       "    </tr>\n",
       "    <tr>\n",
       "      <th>4</th>\n",
       "      <td>2021</td>\n",
       "      <td>CA</td>\n",
       "      <td>420608</td>\n",
       "    </tr>\n",
       "    <tr>\n",
       "      <th>...</th>\n",
       "      <td>...</td>\n",
       "      <td>...</td>\n",
       "      <td>...</td>\n",
       "    </tr>\n",
       "    <tr>\n",
       "      <th>445</th>\n",
       "      <td>2005</td>\n",
       "      <td>VA</td>\n",
       "      <td>104555</td>\n",
       "    </tr>\n",
       "    <tr>\n",
       "      <th>446</th>\n",
       "      <td>2005</td>\n",
       "      <td>WA</td>\n",
       "      <td>82703</td>\n",
       "    </tr>\n",
       "    <tr>\n",
       "      <th>447</th>\n",
       "      <td>2005</td>\n",
       "      <td>WV</td>\n",
       "      <td>20836</td>\n",
       "    </tr>\n",
       "    <tr>\n",
       "      <th>448</th>\n",
       "      <td>2005</td>\n",
       "      <td>WI</td>\n",
       "      <td>70984</td>\n",
       "    </tr>\n",
       "    <tr>\n",
       "      <th>449</th>\n",
       "      <td>2005</td>\n",
       "      <td>WY</td>\n",
       "      <td>7239</td>\n",
       "    </tr>\n",
       "  </tbody>\n",
       "</table>\n",
       "<p>450 rows × 3 columns</p>\n",
       "</div>"
      ],
      "text/plain": [
       "     YEAR STATE  BIRTHS\n",
       "0    2021    AL   58054\n",
       "1    2021    AK    9367\n",
       "2    2021    AZ   77916\n",
       "3    2021    AR   35965\n",
       "4    2021    CA  420608\n",
       "..    ...   ...     ...\n",
       "445  2005    VA  104555\n",
       "446  2005    WA   82703\n",
       "447  2005    WV   20836\n",
       "448  2005    WI   70984\n",
       "449  2005    WY    7239\n",
       "\n",
       "[450 rows x 3 columns]"
      ]
     },
     "execution_count": 148,
     "metadata": {},
     "output_type": "execute_result"
    }
   ],
   "source": [
    "fertility_df"
   ]
  },
  {
   "cell_type": "code",
   "execution_count": 149,
   "metadata": {},
   "outputs": [],
   "source": [
    "state_abbr = {\n",
    "        'AL': 'Alabama', 'AK': 'Alaska', 'AZ': 'Arizona', 'AR': 'Arkansas', 'CA': 'California',\n",
    "        'CO': 'Colorado', 'CT': 'Connecticut', 'DE': 'Delaware', 'FL': 'Florida', 'GA': 'Georgia',\n",
    "        'HI': 'Hawaii', 'ID': 'Idaho', 'IL': 'Illinois', 'IN': 'Indiana', 'IA': 'Iowa',\n",
    "        'KS': 'Kansas', 'KY': 'Kentucky', 'LA': 'Louisiana', 'ME': 'Maine', 'MD': 'Maryland',\n",
    "        'MA': 'Massachusetts', 'MI': 'Michigan', 'MN': 'Minnesota', 'MS': 'Mississippi', 'MO': 'Missouri',\n",
    "        'MT': 'Montana', 'NE': 'Nebraska', 'NV': 'Nevada', 'NH': 'New Hampshire', 'NJ': 'New Jersey',\n",
    "        'NM': 'New Mexico', 'NY': 'New York', 'NC': 'North Carolina', 'ND': 'North Dakota', 'OH': 'Ohio',\n",
    "        'OK': 'Oklahoma', 'OR': 'Oregon', 'PA': 'Pennsylvania', 'RI': 'Rhode Island', 'SC': 'South Carolina',\n",
    "        'SD': 'South Dakota', 'TN': 'Tennessee', 'TX': 'Texas', 'UT': 'Utah', 'VT': 'Vermont',\n",
    "        'VA': 'Virginia', 'WA': 'Washington', 'WV': 'West Virginia', 'WI': 'Wisconsin', 'WY': 'Wyoming'\n",
    "    }\n",
    "\n",
    "def switch_state_names(state):\n",
    "    if state in state_abbr:\n",
    "        state = state_abbr[state]\n",
    "        return\n",
    "    \n",
    "\n",
    "fertility_df['STATE'] = fertility_df['STATE'].map(state_abbr)\n"
   ]
  },
  {
   "cell_type": "code",
   "execution_count": 150,
   "metadata": {},
   "outputs": [],
   "source": [
    "fertility_df = fertility_df.reindex(columns=['STATE', 'YEAR', 'BIRTHS'])"
   ]
  },
  {
   "cell_type": "code",
   "execution_count": 151,
   "metadata": {},
   "outputs": [],
   "source": [
    "fertility_df = fertility_df.pivot(index='STATE', columns='YEAR', values='BIRTHS').reset_index()"
   ]
  },
  {
   "cell_type": "code",
   "execution_count": 152,
   "metadata": {},
   "outputs": [],
   "source": [
    "new_columns = {'YEAR':None, 'STATE':'State Names', 2005: '2005 BIRTHS', 2014: '2014 BIRTHS', \n",
    "               2015: '2015 BIRTHS', 2016: '2016 BIRTHS', 2017: '2017 BIRTHS', \n",
    "               2018: '2018 BIRTHS', 2019: '2019 BIRTHS', 2020: '2020 BIRTHS', \n",
    "               2021: '2021 BIRTHS'}"
   ]
  },
  {
   "cell_type": "code",
   "execution_count": 153,
   "metadata": {},
   "outputs": [],
   "source": [
    "fertility_df.rename(columns=new_columns, inplace=True)"
   ]
  },
  {
   "cell_type": "code",
   "execution_count": 155,
   "metadata": {},
   "outputs": [],
   "source": [
    "#The isolated year of 2005 can drastically affect our time-series model, hence my decision to remove it\n",
    "fertility_df.drop(columns=['2005 BIRTHS'], axis=1, inplace=True)"
   ]
  },
  {
   "cell_type": "code",
   "execution_count": 157,
   "metadata": {},
   "outputs": [],
   "source": [
    "# fertility_df.head()"
   ]
  },
  {
   "cell_type": "code",
   "execution_count": 158,
   "metadata": {},
   "outputs": [],
   "source": [
    "fertility_df.to_csv('United_States_Fertility_Rates.csv')"
   ]
  }
 ],
 "metadata": {
  "kernelspec": {
   "display_name": "stat_4185_env",
   "language": "python",
   "name": "python3"
  },
  "language_info": {
   "codemirror_mode": {
    "name": "ipython",
    "version": 3
   },
   "file_extension": ".py",
   "mimetype": "text/x-python",
   "name": "python",
   "nbconvert_exporter": "python",
   "pygments_lexer": "ipython3",
   "version": "3.11.5"
  }
 },
 "nbformat": 4,
 "nbformat_minor": 2
}
